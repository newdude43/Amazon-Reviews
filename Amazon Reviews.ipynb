{
 "cells": [
  {
   "cell_type": "code",
   "execution_count": 1,
   "metadata": {},
   "outputs": [],
   "source": [
    "import pandas as pd\n",
    "from matplotlib import pyplot as plt\n",
    "import numpy as np\n",
    "import math\n",
    "import seaborn as sns\n",
    "import sklearn\n",
    "from sklearn import linear_model\n",
    "from sklearn import preprocessing\n",
    "%matplotlib inline\n",
    "sns.set_style('white')"
   ]
  },
  {
   "cell_type": "markdown",
   "metadata": {},
   "source": [
    "Use one of the following datasets to perform sentiment analysis on the given Amazon reviews. Pick one of the \"small\" datasets that is a reasonable size for your computer. The goal is to create a model to algorithmically predict if a review is positive or negative just based on its text. Try to see how these reviews compare across categories. Does a review classification model for one category work for another?"
   ]
  },
  {
   "cell_type": "code",
   "execution_count": 2,
   "metadata": {},
   "outputs": [],
   "source": [
    "import gzip\n",
    "\n",
    "def parse(path):\n",
    "  g = gzip.open(path, 'rb')\n",
    "  for l in g:\n",
    "    yield eval(l)\n",
    "\n",
    "def getDF(path):\n",
    "  i = 0\n",
    "  df = {}\n",
    "  for d in parse(path):\n",
    "    df[i] = d\n",
    "    i += 1\n",
    "  return pd.DataFrame.from_dict(df, orient='index')\n",
    "\n",
    "df = getDF('reviews_Musical_Instruments_5.json.gz')"
   ]
  },
  {
   "cell_type": "code",
   "execution_count": 3,
   "metadata": {},
   "outputs": [
    {
     "data": {
      "text/html": [
       "<div>\n",
       "<style scoped>\n",
       "    .dataframe tbody tr th:only-of-type {\n",
       "        vertical-align: middle;\n",
       "    }\n",
       "\n",
       "    .dataframe tbody tr th {\n",
       "        vertical-align: top;\n",
       "    }\n",
       "\n",
       "    .dataframe thead th {\n",
       "        text-align: right;\n",
       "    }\n",
       "</style>\n",
       "<table border=\"1\" class=\"dataframe\">\n",
       "  <thead>\n",
       "    <tr style=\"text-align: right;\">\n",
       "      <th></th>\n",
       "      <th>reviewerID</th>\n",
       "      <th>asin</th>\n",
       "      <th>reviewerName</th>\n",
       "      <th>helpful</th>\n",
       "      <th>reviewText</th>\n",
       "      <th>overall</th>\n",
       "      <th>summary</th>\n",
       "      <th>unixReviewTime</th>\n",
       "      <th>reviewTime</th>\n",
       "    </tr>\n",
       "  </thead>\n",
       "  <tbody>\n",
       "    <tr>\n",
       "      <th>0</th>\n",
       "      <td>A2IBPI20UZIR0U</td>\n",
       "      <td>1384719342</td>\n",
       "      <td>cassandra tu \"Yeah, well, that's just like, u...</td>\n",
       "      <td>[0, 0]</td>\n",
       "      <td>Not much to write about here, but it does exac...</td>\n",
       "      <td>5.0</td>\n",
       "      <td>good</td>\n",
       "      <td>1393545600</td>\n",
       "      <td>02 28, 2014</td>\n",
       "    </tr>\n",
       "    <tr>\n",
       "      <th>1</th>\n",
       "      <td>A14VAT5EAX3D9S</td>\n",
       "      <td>1384719342</td>\n",
       "      <td>Jake</td>\n",
       "      <td>[13, 14]</td>\n",
       "      <td>The product does exactly as it should and is q...</td>\n",
       "      <td>5.0</td>\n",
       "      <td>Jake</td>\n",
       "      <td>1363392000</td>\n",
       "      <td>03 16, 2013</td>\n",
       "    </tr>\n",
       "    <tr>\n",
       "      <th>2</th>\n",
       "      <td>A195EZSQDW3E21</td>\n",
       "      <td>1384719342</td>\n",
       "      <td>Rick Bennette \"Rick Bennette\"</td>\n",
       "      <td>[1, 1]</td>\n",
       "      <td>The primary job of this device is to block the...</td>\n",
       "      <td>5.0</td>\n",
       "      <td>It Does The Job Well</td>\n",
       "      <td>1377648000</td>\n",
       "      <td>08 28, 2013</td>\n",
       "    </tr>\n",
       "    <tr>\n",
       "      <th>3</th>\n",
       "      <td>A2C00NNG1ZQQG2</td>\n",
       "      <td>1384719342</td>\n",
       "      <td>RustyBill \"Sunday Rocker\"</td>\n",
       "      <td>[0, 0]</td>\n",
       "      <td>Nice windscreen protects my MXL mic and preven...</td>\n",
       "      <td>5.0</td>\n",
       "      <td>GOOD WINDSCREEN FOR THE MONEY</td>\n",
       "      <td>1392336000</td>\n",
       "      <td>02 14, 2014</td>\n",
       "    </tr>\n",
       "    <tr>\n",
       "      <th>4</th>\n",
       "      <td>A94QU4C90B1AX</td>\n",
       "      <td>1384719342</td>\n",
       "      <td>SEAN MASLANKA</td>\n",
       "      <td>[0, 0]</td>\n",
       "      <td>This pop filter is great. It looks and perform...</td>\n",
       "      <td>5.0</td>\n",
       "      <td>No more pops when I record my vocals.</td>\n",
       "      <td>1392940800</td>\n",
       "      <td>02 21, 2014</td>\n",
       "    </tr>\n",
       "  </tbody>\n",
       "</table>\n",
       "</div>"
      ],
      "text/plain": [
       "       reviewerID        asin  \\\n",
       "0  A2IBPI20UZIR0U  1384719342   \n",
       "1  A14VAT5EAX3D9S  1384719342   \n",
       "2  A195EZSQDW3E21  1384719342   \n",
       "3  A2C00NNG1ZQQG2  1384719342   \n",
       "4   A94QU4C90B1AX  1384719342   \n",
       "\n",
       "                                       reviewerName   helpful  \\\n",
       "0  cassandra tu \"Yeah, well, that's just like, u...    [0, 0]   \n",
       "1                                              Jake  [13, 14]   \n",
       "2                     Rick Bennette \"Rick Bennette\"    [1, 1]   \n",
       "3                         RustyBill \"Sunday Rocker\"    [0, 0]   \n",
       "4                                     SEAN MASLANKA    [0, 0]   \n",
       "\n",
       "                                          reviewText  overall  \\\n",
       "0  Not much to write about here, but it does exac...      5.0   \n",
       "1  The product does exactly as it should and is q...      5.0   \n",
       "2  The primary job of this device is to block the...      5.0   \n",
       "3  Nice windscreen protects my MXL mic and preven...      5.0   \n",
       "4  This pop filter is great. It looks and perform...      5.0   \n",
       "\n",
       "                                 summary  unixReviewTime   reviewTime  \n",
       "0                                   good      1393545600  02 28, 2014  \n",
       "1                                   Jake      1363392000  03 16, 2013  \n",
       "2                   It Does The Job Well      1377648000  08 28, 2013  \n",
       "3          GOOD WINDSCREEN FOR THE MONEY      1392336000  02 14, 2014  \n",
       "4  No more pops when I record my vocals.      1392940800  02 21, 2014  "
      ]
     },
     "execution_count": 3,
     "metadata": {},
     "output_type": "execute_result"
    }
   ],
   "source": [
    "df.head()"
   ]
  },
  {
   "cell_type": "code",
   "execution_count": 4,
   "metadata": {},
   "outputs": [
    {
     "data": {
      "text/plain": [
       "(10261, 9)"
      ]
     },
     "execution_count": 4,
     "metadata": {},
     "output_type": "execute_result"
    }
   ],
   "source": [
    "df.shape"
   ]
  },
  {
   "cell_type": "code",
   "execution_count": 5,
   "metadata": {},
   "outputs": [
    {
     "data": {
      "text/plain": [
       "['reviewerID',\n",
       " 'asin',\n",
       " 'reviewerName',\n",
       " 'helpful',\n",
       " 'reviewText',\n",
       " 'overall',\n",
       " 'summary',\n",
       " 'unixReviewTime',\n",
       " 'reviewTime']"
      ]
     },
     "execution_count": 5,
     "metadata": {},
     "output_type": "execute_result"
    }
   ],
   "source": [
    "list(df)"
   ]
  },
  {
   "cell_type": "code",
   "execution_count": 6,
   "metadata": {},
   "outputs": [
    {
     "data": {
      "text/plain": [
       "5.0    6938\n",
       "4.0    2084\n",
       "3.0     772\n",
       "2.0     250\n",
       "1.0     217\n",
       "Name: overall, dtype: int64"
      ]
     },
     "execution_count": 6,
     "metadata": {},
     "output_type": "execute_result"
    }
   ],
   "source": [
    "df['overall'].value_counts()"
   ]
  },
  {
   "cell_type": "markdown",
   "metadata": {},
   "source": [
    "1-4 is negative, 5 is positive; otherwise data will be skewed due to large number in 5"
   ]
  },
  {
   "cell_type": "code",
   "execution_count": 7,
   "metadata": {},
   "outputs": [
    {
     "data": {
      "text/plain": [
       "3323"
      ]
     },
     "execution_count": 7,
     "metadata": {},
     "output_type": "execute_result"
    }
   ],
   "source": [
    "217 + 250 + 772 + 2084"
   ]
  },
  {
   "cell_type": "code",
   "execution_count": 8,
   "metadata": {},
   "outputs": [],
   "source": [
    "df['overall_2'] = np.where(df['overall'] >= 4.1, 1, 0)"
   ]
  },
  {
   "cell_type": "code",
   "execution_count": 9,
   "metadata": {},
   "outputs": [
    {
     "data": {
      "text/plain": [
       "['reviewerID',\n",
       " 'asin',\n",
       " 'reviewerName',\n",
       " 'helpful',\n",
       " 'reviewText',\n",
       " 'overall',\n",
       " 'summary',\n",
       " 'unixReviewTime',\n",
       " 'reviewTime',\n",
       " 'overall_2']"
      ]
     },
     "execution_count": 9,
     "metadata": {},
     "output_type": "execute_result"
    }
   ],
   "source": [
    "list(df)"
   ]
  },
  {
   "cell_type": "code",
   "execution_count": 10,
   "metadata": {},
   "outputs": [
    {
     "data": {
      "text/plain": [
       "1    6938\n",
       "0    3323\n",
       "Name: overall_2, dtype: int64"
      ]
     },
     "execution_count": 10,
     "metadata": {},
     "output_type": "execute_result"
    }
   ],
   "source": [
    "df['overall_2'].value_counts()"
   ]
  },
  {
   "cell_type": "code",
   "execution_count": 3,
   "metadata": {},
   "outputs": [
    {
     "data": {
      "text/plain": [
       "0.6761524217912485"
      ]
     },
     "execution_count": 3,
     "metadata": {},
     "output_type": "execute_result"
    }
   ],
   "source": [
    "6938/(6938+3323)"
   ]
  },
  {
   "cell_type": "markdown",
   "metadata": {},
   "source": [
    "# 1 = Positive, 0 = Negative"
   ]
  },
  {
   "cell_type": "code",
   "execution_count": 11,
   "metadata": {},
   "outputs": [
    {
     "data": {
      "text/plain": [
       "reviewerID         object\n",
       "asin               object\n",
       "reviewerName       object\n",
       "helpful            object\n",
       "reviewText         object\n",
       "overall           float64\n",
       "summary            object\n",
       "unixReviewTime      int64\n",
       "reviewTime         object\n",
       "overall_2           int64\n",
       "dtype: object"
      ]
     },
     "execution_count": 11,
     "metadata": {},
     "output_type": "execute_result"
    }
   ],
   "source": [
    "df.dtypes"
   ]
  },
  {
   "cell_type": "code",
   "execution_count": 12,
   "metadata": {},
   "outputs": [],
   "source": [
    "from sklearn.feature_extraction import stop_words"
   ]
  },
  {
   "cell_type": "code",
   "execution_count": 14,
   "metadata": {},
   "outputs": [],
   "source": [
    "stop = stop_words.ENGLISH_STOP_WORDS\n",
    "df['reviewText_without_stopwords'] = df['reviewText'].apply(lambda x: ' '.join([word for word in x.split()if word not in (stop)]))"
   ]
  },
  {
   "cell_type": "code",
   "execution_count": 15,
   "metadata": {},
   "outputs": [],
   "source": [
    "df['reviewText_without_stopwords'] = df['reviewText_without_stopwords'].str.replace(',', '')"
   ]
  },
  {
   "cell_type": "code",
   "execution_count": 16,
   "metadata": {},
   "outputs": [
    {
     "name": "stdout",
     "output_type": "stream",
     "text": [
      "20 most common words in Review Text:\n"
     ]
    },
    {
     "data": {
      "text/plain": [
       "i          25328\n",
       "the         4602\n",
       "guitar      4580\n",
       "it          3775\n",
       "like        3754\n",
       "just        3665\n",
       "it's        3368\n",
       "great       3330\n",
       "use         3316\n",
       "good        3296\n",
       "sound       3076\n",
       "this        3031\n",
       "strings     2666\n",
       "really      2191\n",
       "pedal       2127\n",
       "little      2020\n",
       "don't       1908\n",
       "i've        1773\n",
       "works       1723\n",
       "used        1630\n",
       "dtype: int64"
      ]
     },
     "execution_count": 16,
     "metadata": {},
     "output_type": "execute_result"
    }
   ],
   "source": [
    "print ('20 most common words in Review Text:')\n",
    "pd.Series(' '.join(df['reviewText_without_stopwords']).lower().split()).value_counts()[:20]"
   ]
  },
  {
   "cell_type": "code",
   "execution_count": 25,
   "metadata": {},
   "outputs": [],
   "source": [
    "keywords = ['love', 'loved', 'great', 'awesome', 'good', 'not', 'bad', 'price', 'value', 'happy', 'guitar', \n",
    "           'like', 'use', 'sound', 'strings', 'really', 'pedal', 'little', 'works', 'used']\n",
    "\n",
    "for key in keywords:\n",
    "    # Note that we add spaces around the key so that we're getting the word,\n",
    "    # not just pattern matching.\n",
    "    df[str(key)] = df['reviewText'].str.contains(\n",
    "        ' ' + str(key) + ' ',\n",
    "        case=False\n",
    "    )"
   ]
  },
  {
   "cell_type": "code",
   "execution_count": 26,
   "metadata": {},
   "outputs": [
    {
     "data": {
      "text/plain": [
       "reviewerID                       object\n",
       "asin                             object\n",
       "reviewerName                     object\n",
       "helpful                          object\n",
       "reviewText                       object\n",
       "overall                         float64\n",
       "summary                          object\n",
       "unixReviewTime                    int64\n",
       "reviewTime                       object\n",
       "overall_2                         int64\n",
       "title_without_stopwords          object\n",
       "reviewText_without_stopwords     object\n",
       "love                               bool\n",
       "loved                              bool\n",
       "great                              bool\n",
       "awesome                            bool\n",
       "good                               bool\n",
       "not                                bool\n",
       "bad                                bool\n",
       "price                              bool\n",
       "value                              bool\n",
       "happy                              bool\n",
       "guitar                             bool\n",
       "like                               bool\n",
       "use                                bool\n",
       "sound                              bool\n",
       "strings                            bool\n",
       "really                             bool\n",
       "pedal                              bool\n",
       "little                             bool\n",
       "works                              bool\n",
       "used                               bool\n",
       "dtype: object"
      ]
     },
     "execution_count": 26,
     "metadata": {},
     "output_type": "execute_result"
    }
   ],
   "source": [
    "df.dtypes"
   ]
  },
  {
   "cell_type": "code",
   "execution_count": 27,
   "metadata": {},
   "outputs": [
    {
     "name": "stdout",
     "output_type": "stream",
     "text": [
      "                 overall  unixReviewTime  overall_2      love     loved  \\\n",
      "overall         1.000000       -0.008992   0.825776  0.076440 -0.010515   \n",
      "unixReviewTime -0.008992        1.000000   0.000068 -0.008315 -0.000160   \n",
      "overall_2       0.825776        0.000068   1.000000  0.088191  0.004836   \n",
      "love            0.076440       -0.008315   0.088191  1.000000  0.028524   \n",
      "loved          -0.010515       -0.000160   0.004836  0.028524  1.000000   \n",
      "great           0.104413       -0.048973   0.095700  0.048729  0.032647   \n",
      "awesome         0.036345       -0.003582   0.041413  0.045525  0.038993   \n",
      "good           -0.039142       -0.067448  -0.077593  0.003896  0.009255   \n",
      "not            -0.166717       -0.103500  -0.164591  0.036533  0.004340   \n",
      "bad            -0.084645       -0.028471  -0.069761  0.016770  0.046613   \n",
      "price          -0.011378       -0.054358  -0.027225  0.016966 -0.006000   \n",
      "value           0.012425       -0.051420   0.002737  0.005714  0.008812   \n",
      "happy           0.030740       -0.020829   0.021362  0.012761  0.008171   \n",
      "guitar          0.019986       -0.051202   0.024217  0.025244  0.021257   \n",
      "like           -0.040171       -0.063754  -0.052708  0.044321  0.031081   \n",
      "use            -0.030931       -0.089701  -0.042711  0.039895  0.017939   \n",
      "sound           0.007198       -0.092125   0.002338  0.072725  0.016626   \n",
      "strings         0.028881       -0.005596   0.019846  0.028249  0.025766   \n",
      "really         -0.026027       -0.050839  -0.016439  0.062553  0.053437   \n",
      "pedal          -0.017358       -0.047489  -0.019555  0.041521  0.030845   \n",
      "little         -0.018928       -0.061343  -0.067916  0.046377  0.024800   \n",
      "works           0.009261       -0.029652  -0.030215  0.006943 -0.009688   \n",
      "used           -0.010387       -0.076631  -0.015449  0.017618  0.033076   \n",
      "\n",
      "                   great   awesome      good       not       bad    ...     \\\n",
      "overall         0.104413  0.036345 -0.039142 -0.166717 -0.084645    ...      \n",
      "unixReviewTime -0.048973 -0.003582 -0.067448 -0.103500 -0.028471    ...      \n",
      "overall_2       0.095700  0.041413 -0.077593 -0.164591 -0.069761    ...      \n",
      "love            0.048729  0.045525  0.003896  0.036533  0.016770    ...      \n",
      "loved           0.032647  0.038993  0.009255  0.004340  0.046613    ...      \n",
      "great           1.000000  0.035282  0.017352  0.042926  0.009555    ...      \n",
      "awesome         0.035282  1.000000 -0.002319  0.009166  0.013820    ...      \n",
      "good            0.017352 -0.002319  1.000000  0.117000  0.070954    ...      \n",
      "not             0.042926  0.009166  0.117000  1.000000  0.111300    ...      \n",
      "bad             0.009555  0.013820  0.070954  0.111300  1.000000    ...      \n",
      "price           0.071433  0.022903  0.095146  0.101261  0.061276    ...      \n",
      "value           0.068703  0.013227  0.054960  0.055165  0.012511    ...      \n",
      "happy           0.018240  0.017055  0.021945  0.020597  0.000362    ...      \n",
      "guitar          0.038654  0.000742  0.053540  0.106007  0.035649    ...      \n",
      "like            0.054598  0.020764  0.086251  0.185935  0.083041    ...      \n",
      "use             0.046203  0.022135  0.055447  0.141713  0.023337    ...      \n",
      "sound           0.102314  0.062622  0.119257  0.126038  0.057458    ...      \n",
      "strings         0.026045  0.012999  0.040792  0.027511  0.004162    ...      \n",
      "really          0.068015  0.020197  0.097566  0.126514  0.060380    ...      \n",
      "pedal           0.086399  0.051708  0.045448  0.093708  0.071216    ...      \n",
      "little          0.054854  0.025992  0.036814  0.096839  0.050127    ...      \n",
      "works           0.048885  0.002322  0.003793  0.044839  0.006628    ...      \n",
      "used            0.040780 -0.000535  0.052520  0.110265  0.037522    ...      \n",
      "\n",
      "                  guitar      like       use     sound   strings    really  \\\n",
      "overall         0.019986 -0.040171 -0.030931  0.007198  0.028881 -0.026027   \n",
      "unixReviewTime -0.051202 -0.063754 -0.089701 -0.092125 -0.005596 -0.050839   \n",
      "overall_2       0.024217 -0.052708 -0.042711  0.002338  0.019846 -0.016439   \n",
      "love            0.025244  0.044321  0.039895  0.072725  0.028249  0.062553   \n",
      "loved           0.021257  0.031081  0.017939  0.016626  0.025766  0.053437   \n",
      "great           0.038654  0.054598  0.046203  0.102314  0.026045  0.068015   \n",
      "awesome         0.000742  0.020764  0.022135  0.062622  0.012999  0.020197   \n",
      "good            0.053540  0.086251  0.055447  0.119257  0.040792  0.097566   \n",
      "not             0.106007  0.185935  0.141713  0.126038  0.027511  0.126514   \n",
      "bad             0.035649  0.083041  0.023337  0.057458  0.004162  0.060380   \n",
      "price           0.021302  0.052558  0.039711  0.072690 -0.015465  0.046739   \n",
      "value           0.025298  0.042864  0.034174  0.047955 -0.017024  0.032689   \n",
      "happy           0.032318  0.030812  0.029091  0.030662  0.011361  0.052747   \n",
      "guitar          1.000000  0.094409  0.077077  0.062005  0.121378  0.060890   \n",
      "like            0.094409  1.000000  0.104475  0.155344  0.046720  0.190570   \n",
      "use             0.077077  0.104475  1.000000  0.098500  0.004793  0.081231   \n",
      "sound           0.062005  0.155344  0.098500  1.000000  0.181646  0.128207   \n",
      "strings         0.121378  0.046720  0.004793  0.181646  1.000000  0.041705   \n",
      "really          0.060890  0.190570  0.081231  0.128207  0.041705  1.000000   \n",
      "pedal          -0.022075  0.104367  0.089203  0.131495 -0.094029  0.091894   \n",
      "little          0.056627  0.111587  0.071930  0.086140  0.020893  0.084133   \n",
      "works           0.023672  0.020788  0.075711 -0.020976 -0.070986  0.037831   \n",
      "used            0.053171  0.104948  0.107632  0.093803  0.056175  0.074863   \n",
      "\n",
      "                   pedal    little     works      used  \n",
      "overall        -0.017358 -0.018928  0.009261 -0.010387  \n",
      "unixReviewTime -0.047489 -0.061343 -0.029652 -0.076631  \n",
      "overall_2      -0.019555 -0.067916 -0.030215 -0.015449  \n",
      "love            0.041521  0.046377  0.006943  0.017618  \n",
      "loved           0.030845  0.024800 -0.009688  0.033076  \n",
      "great           0.086399  0.054854  0.048885  0.040780  \n",
      "awesome         0.051708  0.025992  0.002322 -0.000535  \n",
      "good            0.045448  0.036814  0.003793  0.052520  \n",
      "not             0.093708  0.096839  0.044839  0.110265  \n",
      "bad             0.071216  0.050127  0.006628  0.037522  \n",
      "price           0.042660  0.055481  0.007551  0.025190  \n",
      "value           0.014198  0.016197 -0.002350  0.024097  \n",
      "happy           0.032721  0.015293  0.013173  0.024653  \n",
      "guitar         -0.022075  0.056627  0.023672  0.053171  \n",
      "like            0.104367  0.111587  0.020788  0.104948  \n",
      "use             0.089203  0.071930  0.075711  0.107632  \n",
      "sound           0.131495  0.086140 -0.020976  0.093803  \n",
      "strings        -0.094029  0.020893 -0.070986  0.056175  \n",
      "really          0.091894  0.084133  0.037831  0.074863  \n",
      "pedal           1.000000  0.070134  0.037523  0.039518  \n",
      "little          0.070134  1.000000  0.041438  0.076521  \n",
      "works           0.037523  0.041438  1.000000  0.047207  \n",
      "used            0.039518  0.076521  0.047207  1.000000  \n",
      "\n",
      "[23 rows x 23 columns]\n"
     ]
    },
    {
     "data": {
      "image/png": "[encoded data removed]",
      "text/plain": [
       "<Figure size 864x648 with 2 Axes>"
      ]
     },
     "metadata": {},
     "output_type": "display_data"
    }
   ],
   "source": [
    "corrmat = df.corr()\n",
    "print(corrmat)\n",
    "\n",
    "# Set up the matplotlib figure.\n",
    "f, ax = plt.subplots(figsize=(12, 9))\n",
    "\n",
    "# Draw the heatmap using seaborn.\n",
    "sns.heatmap(corrmat, vmax=.8, square=True)\n",
    "plt.show()"
   ]
  },
  {
   "cell_type": "code",
   "execution_count": 28,
   "metadata": {},
   "outputs": [],
   "source": [
    "data = df[keywords]\n",
    "target = df['overall_2']"
   ]
  },
  {
   "cell_type": "code",
   "execution_count": 29,
   "metadata": {},
   "outputs": [
    {
     "name": "stdout",
     "output_type": "stream",
     "text": [
      "Number of mislabeled points out of a total 10261 points : 3311\n"
     ]
    }
   ],
   "source": [
    "# Our data is binary / boolean, so we're importing the Bernoulli classifier.\n",
    "from sklearn.naive_bayes import BernoulliNB\n",
    "\n",
    "# Instantiate our model and store it in a new variable.\n",
    "bnb = BernoulliNB()\n",
    "\n",
    "# Fit our model to the data.\n",
    "bnb.fit(data, target)\n",
    "\n",
    "# Classify, storing the result in a new variable.\n",
    "y_pred = bnb.predict(data)\n",
    "\n",
    "# Display our results.\n",
    "print(\"Number of mislabeled points out of a total {} points : {}\".format(\n",
    "    data.shape[0],\n",
    "    (target != y_pred).sum()\n",
    "))"
   ]
  },
  {
   "cell_type": "code",
   "execution_count": 3,
   "metadata": {},
   "outputs": [
    {
     "name": "stdout",
     "output_type": "stream",
     "text": [
      "0.6773218984504434 percentage correct\n"
     ]
    }
   ],
   "source": [
    "print ((1 - (3311/10261)), \"percentage correct\")"
   ]
  },
  {
   "cell_type": "code",
   "execution_count": 4,
   "metadata": {},
   "outputs": [],
   "source": [
    "# More advanced techniques will be learned later to further develop this"
   ]
  },
  {
   "cell_type": "code",
   "execution_count": null,
   "metadata": {},
   "outputs": [],
   "source": []
  }
 ],
 "metadata": {
  "kernelspec": {
   "display_name": "Python 3",
   "language": "python",
   "name": "python3"
  },
  "language_info": {
   "codemirror_mode": {
    "name": "ipython",
    "version": 3
   },
   "file_extension": ".py",
   "mimetype": "text/x-python",
   "name": "python",
   "nbconvert_exporter": "python",
   "pygments_lexer": "ipython3",
   "version": "3.6.5"
  }
 },
 "nbformat": 4,
 "nbformat_minor": 2
}
